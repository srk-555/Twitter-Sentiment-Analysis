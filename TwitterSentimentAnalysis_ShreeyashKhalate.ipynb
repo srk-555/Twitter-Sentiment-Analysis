{
 "cells": [
  {
   "cell_type": "markdown",
   "metadata": {},
   "source": [
    "Name - Shreeyash Khalate<br/>\n",
    "Project - Twitter Sentiment Analysis"
   ]
  },
  {
   "cell_type": "markdown",
   "metadata": {},
   "source": [
    "## Importing the required libraries"
   ]
  },
  {
   "cell_type": "code",
   "execution_count": 161,
   "metadata": {},
   "outputs": [],
   "source": [
    "import pandas as pd\n",
    "import re\n",
    "import numpy as np\n",
    "from textblob import TextBlob\n",
    "from wordcloud import WordCloud\n",
    "import matplotlib.pyplot as plt\n"
   ]
  },
  {
   "cell_type": "markdown",
   "metadata": {},
   "source": [
    "## Loading the Dataset"
   ]
  },
  {
   "cell_type": "markdown",
   "metadata": {},
   "source": [
    "This is synthetic (fake, semi-randomly generated) twitter data."
   ]
  },
  {
   "cell_type": "code",
   "execution_count": 162,
   "metadata": {},
   "outputs": [
    {
     "data": {
      "text/html": [
       "<div>\n",
       "<style scoped>\n",
       "    .dataframe tbody tr th:only-of-type {\n",
       "        vertical-align: middle;\n",
       "    }\n",
       "\n",
       "    .dataframe tbody tr th {\n",
       "        vertical-align: top;\n",
       "    }\n",
       "\n",
       "    .dataframe thead th {\n",
       "        text-align: right;\n",
       "    }\n",
       "</style>\n",
       "<table border=\"1\" class=\"dataframe\">\n",
       "  <thead>\n",
       "    <tr style=\"text-align: right;\">\n",
       "      <th></th>\n",
       "      <th>id</th>\n",
       "      <th>tweet</th>\n",
       "    </tr>\n",
       "  </thead>\n",
       "  <tbody>\n",
       "    <tr>\n",
       "      <td>0</td>\n",
       "      <td>31963</td>\n",
       "      <td>#studiolife #aislife #requires #passion #dedic...</td>\n",
       "    </tr>\n",
       "    <tr>\n",
       "      <td>1</td>\n",
       "      <td>31964</td>\n",
       "      <td>@user #white #supremacists want everyone to s...</td>\n",
       "    </tr>\n",
       "    <tr>\n",
       "      <td>2</td>\n",
       "      <td>31965</td>\n",
       "      <td>safe ways to heal your #acne!!    #altwaystohe...</td>\n",
       "    </tr>\n",
       "    <tr>\n",
       "      <td>3</td>\n",
       "      <td>31966</td>\n",
       "      <td>is the hp and the cursed child book up for res...</td>\n",
       "    </tr>\n",
       "    <tr>\n",
       "      <td>4</td>\n",
       "      <td>31967</td>\n",
       "      <td>3rd #bihday to my amazing, hilarious #nephew...</td>\n",
       "    </tr>\n",
       "    <tr>\n",
       "      <td>...</td>\n",
       "      <td>...</td>\n",
       "      <td>...</td>\n",
       "    </tr>\n",
       "    <tr>\n",
       "      <td>17192</td>\n",
       "      <td>49155</td>\n",
       "      <td>thought factory: left-right polarisation! #tru...</td>\n",
       "    </tr>\n",
       "    <tr>\n",
       "      <td>17193</td>\n",
       "      <td>49156</td>\n",
       "      <td>feeling like a mermaid ð #hairflip #neverre...</td>\n",
       "    </tr>\n",
       "    <tr>\n",
       "      <td>17194</td>\n",
       "      <td>49157</td>\n",
       "      <td>#hillary #campaigned today in #ohio((omg)) &amp;am...</td>\n",
       "    </tr>\n",
       "    <tr>\n",
       "      <td>17195</td>\n",
       "      <td>49158</td>\n",
       "      <td>happy, at work conference: right mindset leads...</td>\n",
       "    </tr>\n",
       "    <tr>\n",
       "      <td>17196</td>\n",
       "      <td>49159</td>\n",
       "      <td>my   song \"so glad\" free download!  #shoegaze ...</td>\n",
       "    </tr>\n",
       "  </tbody>\n",
       "</table>\n",
       "<p>17197 rows × 2 columns</p>\n",
       "</div>"
      ],
      "text/plain": [
       "          id                                              tweet\n",
       "0      31963  #studiolife #aislife #requires #passion #dedic...\n",
       "1      31964   @user #white #supremacists want everyone to s...\n",
       "2      31965  safe ways to heal your #acne!!    #altwaystohe...\n",
       "3      31966  is the hp and the cursed child book up for res...\n",
       "4      31967    3rd #bihday to my amazing, hilarious #nephew...\n",
       "...      ...                                                ...\n",
       "17192  49155  thought factory: left-right polarisation! #tru...\n",
       "17193  49156  feeling like a mermaid ð #hairflip #neverre...\n",
       "17194  49157  #hillary #campaigned today in #ohio((omg)) &am...\n",
       "17195  49158  happy, at work conference: right mindset leads...\n",
       "17196  49159  my   song \"so glad\" free download!  #shoegaze ...\n",
       "\n",
       "[17197 rows x 2 columns]"
      ]
     },
     "execution_count": 162,
     "metadata": {},
     "output_type": "execute_result"
    }
   ],
   "source": [
    "df = pd.read_csv(\"project_twitter_data.csv\")\n",
    "df"
   ]
  },
  {
   "cell_type": "code",
   "execution_count": 163,
   "metadata": {},
   "outputs": [
    {
     "data": {
      "text/html": [
       "<div>\n",
       "<style scoped>\n",
       "    .dataframe tbody tr th:only-of-type {\n",
       "        vertical-align: middle;\n",
       "    }\n",
       "\n",
       "    .dataframe tbody tr th {\n",
       "        vertical-align: top;\n",
       "    }\n",
       "\n",
       "    .dataframe thead th {\n",
       "        text-align: right;\n",
       "    }\n",
       "</style>\n",
       "<table border=\"1\" class=\"dataframe\">\n",
       "  <thead>\n",
       "    <tr style=\"text-align: right;\">\n",
       "      <th></th>\n",
       "      <th>tweet</th>\n",
       "    </tr>\n",
       "  </thead>\n",
       "  <tbody>\n",
       "    <tr>\n",
       "      <td>0</td>\n",
       "      <td>#studiolife #aislife #requires #passion #dedic...</td>\n",
       "    </tr>\n",
       "    <tr>\n",
       "      <td>1</td>\n",
       "      <td>@user #white #supremacists want everyone to s...</td>\n",
       "    </tr>\n",
       "    <tr>\n",
       "      <td>2</td>\n",
       "      <td>safe ways to heal your #acne!!    #altwaystohe...</td>\n",
       "    </tr>\n",
       "    <tr>\n",
       "      <td>3</td>\n",
       "      <td>is the hp and the cursed child book up for res...</td>\n",
       "    </tr>\n",
       "    <tr>\n",
       "      <td>4</td>\n",
       "      <td>3rd #bihday to my amazing, hilarious #nephew...</td>\n",
       "    </tr>\n",
       "    <tr>\n",
       "      <td>...</td>\n",
       "      <td>...</td>\n",
       "    </tr>\n",
       "    <tr>\n",
       "      <td>17192</td>\n",
       "      <td>thought factory: left-right polarisation! #tru...</td>\n",
       "    </tr>\n",
       "    <tr>\n",
       "      <td>17193</td>\n",
       "      <td>feeling like a mermaid ð #hairflip #neverre...</td>\n",
       "    </tr>\n",
       "    <tr>\n",
       "      <td>17194</td>\n",
       "      <td>#hillary #campaigned today in #ohio((omg)) &amp;am...</td>\n",
       "    </tr>\n",
       "    <tr>\n",
       "      <td>17195</td>\n",
       "      <td>happy, at work conference: right mindset leads...</td>\n",
       "    </tr>\n",
       "    <tr>\n",
       "      <td>17196</td>\n",
       "      <td>my   song \"so glad\" free download!  #shoegaze ...</td>\n",
       "    </tr>\n",
       "  </tbody>\n",
       "</table>\n",
       "<p>17197 rows × 1 columns</p>\n",
       "</div>"
      ],
      "text/plain": [
       "                                                   tweet\n",
       "0      #studiolife #aislife #requires #passion #dedic...\n",
       "1       @user #white #supremacists want everyone to s...\n",
       "2      safe ways to heal your #acne!!    #altwaystohe...\n",
       "3      is the hp and the cursed child book up for res...\n",
       "4        3rd #bihday to my amazing, hilarious #nephew...\n",
       "...                                                  ...\n",
       "17192  thought factory: left-right polarisation! #tru...\n",
       "17193  feeling like a mermaid ð #hairflip #neverre...\n",
       "17194  #hillary #campaigned today in #ohio((omg)) &am...\n",
       "17195  happy, at work conference: right mindset leads...\n",
       "17196  my   song \"so glad\" free download!  #shoegaze ...\n",
       "\n",
       "[17197 rows x 1 columns]"
      ]
     },
     "execution_count": 163,
     "metadata": {},
     "output_type": "execute_result"
    }
   ],
   "source": [
    "# Now we don't need the \"id\" column\n",
    "df = df.drop(\"id\",axis = \"columns\")\n",
    "df"
   ]
  },
  {
   "cell_type": "code",
   "execution_count": 164,
   "metadata": {},
   "outputs": [
    {
     "data": {
      "text/html": [
       "<div>\n",
       "<style scoped>\n",
       "    .dataframe tbody tr th:only-of-type {\n",
       "        vertical-align: middle;\n",
       "    }\n",
       "\n",
       "    .dataframe tbody tr th {\n",
       "        vertical-align: top;\n",
       "    }\n",
       "\n",
       "    .dataframe thead th {\n",
       "        text-align: right;\n",
       "    }\n",
       "</style>\n",
       "<table border=\"1\" class=\"dataframe\">\n",
       "  <thead>\n",
       "    <tr style=\"text-align: right;\">\n",
       "      <th></th>\n",
       "      <th>tweet</th>\n",
       "    </tr>\n",
       "  </thead>\n",
       "  <tbody>\n",
       "    <tr>\n",
       "      <td>0</td>\n",
       "      <td>#studiolife #aislife #requires #passion #dedic...</td>\n",
       "    </tr>\n",
       "    <tr>\n",
       "      <td>1</td>\n",
       "      <td>@user #white #supremacists want everyone to s...</td>\n",
       "    </tr>\n",
       "    <tr>\n",
       "      <td>2</td>\n",
       "      <td>safe ways to heal your #acne!!    #altwaystohe...</td>\n",
       "    </tr>\n",
       "    <tr>\n",
       "      <td>3</td>\n",
       "      <td>is the hp and the cursed child book up for res...</td>\n",
       "    </tr>\n",
       "    <tr>\n",
       "      <td>4</td>\n",
       "      <td>3rd #bihday to my amazing, hilarious #nephew...</td>\n",
       "    </tr>\n",
       "    <tr>\n",
       "      <td>...</td>\n",
       "      <td>...</td>\n",
       "    </tr>\n",
       "    <tr>\n",
       "      <td>195</td>\n",
       "      <td>can #lighttherapy help with   or #depression? ...</td>\n",
       "    </tr>\n",
       "    <tr>\n",
       "      <td>196</td>\n",
       "      <td>aww yeah it's all good bing bong bing bong</td>\n",
       "    </tr>\n",
       "    <tr>\n",
       "      <td>197</td>\n",
       "      <td>selfie srelfie! #smile   #me #selfie #followme...</td>\n",
       "    </tr>\n",
       "    <tr>\n",
       "      <td>198</td>\n",
       "      <td>how vera rubin overcame  and invented a whole ...</td>\n",
       "    </tr>\n",
       "    <tr>\n",
       "      <td>199</td>\n",
       "      <td>@user .@user @user @user @user so sorry to re...</td>\n",
       "    </tr>\n",
       "  </tbody>\n",
       "</table>\n",
       "<p>200 rows × 1 columns</p>\n",
       "</div>"
      ],
      "text/plain": [
       "                                                 tweet\n",
       "0    #studiolife #aislife #requires #passion #dedic...\n",
       "1     @user #white #supremacists want everyone to s...\n",
       "2    safe ways to heal your #acne!!    #altwaystohe...\n",
       "3    is the hp and the cursed child book up for res...\n",
       "4      3rd #bihday to my amazing, hilarious #nephew...\n",
       "..                                                 ...\n",
       "195  can #lighttherapy help with   or #depression? ...\n",
       "196      aww yeah it's all good bing bong bing bong   \n",
       "197  selfie srelfie! #smile   #me #selfie #followme...\n",
       "198  how vera rubin overcame  and invented a whole ...\n",
       "199   @user .@user @user @user @user so sorry to re...\n",
       "\n",
       "[200 rows x 1 columns]"
      ]
     },
     "execution_count": 164,
     "metadata": {},
     "output_type": "execute_result"
    }
   ],
   "source": [
    "# To reduce the computation time, we extract only 200 tweets from the above dataframe\n",
    "\n",
    "df = df.head(200)\n",
    "df"
   ]
  },
  {
   "cell_type": "markdown",
   "metadata": {},
   "source": [
    "## Data Cleaning"
   ]
  },
  {
   "cell_type": "code",
   "execution_count": 165,
   "metadata": {},
   "outputs": [
    {
     "name": "stderr",
     "output_type": "stream",
     "text": [
      "C:\\Users\\HP\\Anaconda3\\lib\\site-packages\\ipykernel_launcher.py:12: SettingWithCopyWarning: \n",
      "A value is trying to be set on a copy of a slice from a DataFrame.\n",
      "Try using .loc[row_indexer,col_indexer] = value instead\n",
      "\n",
      "See the caveats in the documentation: http://pandas.pydata.org/pandas-docs/stable/user_guide/indexing.html#returning-a-view-versus-a-copy\n",
      "  if sys.path[0] == '':\n"
     ]
    },
    {
     "data": {
      "text/html": [
       "<div>\n",
       "<style scoped>\n",
       "    .dataframe tbody tr th:only-of-type {\n",
       "        vertical-align: middle;\n",
       "    }\n",
       "\n",
       "    .dataframe tbody tr th {\n",
       "        vertical-align: top;\n",
       "    }\n",
       "\n",
       "    .dataframe thead th {\n",
       "        text-align: right;\n",
       "    }\n",
       "</style>\n",
       "<table border=\"1\" class=\"dataframe\">\n",
       "  <thead>\n",
       "    <tr style=\"text-align: right;\">\n",
       "      <th></th>\n",
       "      <th>tweet</th>\n",
       "    </tr>\n",
       "  </thead>\n",
       "  <tbody>\n",
       "    <tr>\n",
       "      <td>0</td>\n",
       "      <td>studiolife aislife requires passion dedication...</td>\n",
       "    </tr>\n",
       "    <tr>\n",
       "      <td>1</td>\n",
       "      <td>white supremacists want everyone to see the ...</td>\n",
       "    </tr>\n",
       "    <tr>\n",
       "      <td>2</td>\n",
       "      <td>safe ways to heal your acne!!    altwaystoheal...</td>\n",
       "    </tr>\n",
       "    <tr>\n",
       "      <td>3</td>\n",
       "      <td>is the hp and the cursed child book up for res...</td>\n",
       "    </tr>\n",
       "    <tr>\n",
       "      <td>4</td>\n",
       "      <td>3rd bihday to my amazing, hilarious nephew e...</td>\n",
       "    </tr>\n",
       "    <tr>\n",
       "      <td>...</td>\n",
       "      <td>...</td>\n",
       "    </tr>\n",
       "    <tr>\n",
       "      <td>195</td>\n",
       "      <td>can lighttherapy help with   or depression?   ...</td>\n",
       "    </tr>\n",
       "    <tr>\n",
       "      <td>196</td>\n",
       "      <td>aww yeah it's all good bing bong bing bong</td>\n",
       "    </tr>\n",
       "    <tr>\n",
       "      <td>197</td>\n",
       "      <td>selfie srelfie! smile   me selfie followme f4f...</td>\n",
       "    </tr>\n",
       "    <tr>\n",
       "      <td>198</td>\n",
       "      <td>how vera rubin overcame  and invented a whole ...</td>\n",
       "    </tr>\n",
       "    <tr>\n",
       "      <td>199</td>\n",
       "      <td>.    so sorry to read this after so much pain</td>\n",
       "    </tr>\n",
       "  </tbody>\n",
       "</table>\n",
       "<p>200 rows × 1 columns</p>\n",
       "</div>"
      ],
      "text/plain": [
       "                                                 tweet\n",
       "0    studiolife aislife requires passion dedication...\n",
       "1      white supremacists want everyone to see the ...\n",
       "2    safe ways to heal your acne!!    altwaystoheal...\n",
       "3    is the hp and the cursed child book up for res...\n",
       "4      3rd bihday to my amazing, hilarious nephew e...\n",
       "..                                                 ...\n",
       "195  can lighttherapy help with   or depression?   ...\n",
       "196      aww yeah it's all good bing bong bing bong   \n",
       "197  selfie srelfie! smile   me selfie followme f4f...\n",
       "198  how vera rubin overcame  and invented a whole ...\n",
       "199    .    so sorry to read this after so much pain  \n",
       "\n",
       "[200 rows x 1 columns]"
      ]
     },
     "execution_count": 165,
     "metadata": {},
     "output_type": "execute_result"
    }
   ],
   "source": [
    "# Cleaning the text by using regular expressions\n",
    "\n",
    "def clean(text):\n",
    "    text = re.sub(r'@[A-Za-z0-9]+','',text) # Removing @mentions by substituting them with empty string\n",
    "    text = re.sub(r'#', '', text) # Removing hashtags\n",
    "    text = re.sub(r'RT[\\s]+', '', text) # Removing Retweets\n",
    "    text = re.sub(r'https?;\\/\\/\\S+', '', text) # Removing hyperlinks\n",
    "    \n",
    "    return text\n",
    "\n",
    "# Applying above function on dataframe\n",
    "df[\"tweet\"] = df[\"tweet\"].apply(clean)\n",
    "\n",
    "# Printing cleaned dataframe\n",
    "df"
   ]
  },
  {
   "cell_type": "markdown",
   "metadata": {},
   "source": [
    "## Computing Subjectivity"
   ]
  },
  {
   "cell_type": "code",
   "execution_count": 166,
   "metadata": {},
   "outputs": [],
   "source": [
    "# Function to obtain Subjectivity (means more opinion or emotion based sentiment)\n",
    "\n",
    "def getSub(text):\n",
    "    return TextBlob(text).sentiment.subjectivity"
   ]
  },
  {
   "cell_type": "markdown",
   "metadata": {},
   "source": [
    "## Computing Polarity"
   ]
  },
  {
   "cell_type": "code",
   "execution_count": 167,
   "metadata": {},
   "outputs": [],
   "source": [
    "# Function to obtain Polarity (which tells how positive or negative the sentiment of text is)\n",
    "\n",
    "def getPol(text):\n",
    "    return TextBlob(text).sentiment.polarity"
   ]
  },
  {
   "cell_type": "code",
   "execution_count": 168,
   "metadata": {},
   "outputs": [
    {
     "name": "stderr",
     "output_type": "stream",
     "text": [
      "C:\\Users\\HP\\Anaconda3\\lib\\site-packages\\ipykernel_launcher.py:3: SettingWithCopyWarning: \n",
      "A value is trying to be set on a copy of a slice from a DataFrame.\n",
      "Try using .loc[row_indexer,col_indexer] = value instead\n",
      "\n",
      "See the caveats in the documentation: http://pandas.pydata.org/pandas-docs/stable/user_guide/indexing.html#returning-a-view-versus-a-copy\n",
      "  This is separate from the ipykernel package so we can avoid doing imports until\n",
      "C:\\Users\\HP\\Anaconda3\\lib\\site-packages\\ipykernel_launcher.py:4: SettingWithCopyWarning: \n",
      "A value is trying to be set on a copy of a slice from a DataFrame.\n",
      "Try using .loc[row_indexer,col_indexer] = value instead\n",
      "\n",
      "See the caveats in the documentation: http://pandas.pydata.org/pandas-docs/stable/user_guide/indexing.html#returning-a-view-versus-a-copy\n",
      "  after removing the cwd from sys.path.\n"
     ]
    }
   ],
   "source": [
    "# Apply on dataframe and store in two new columns\n",
    "\n",
    "df[\"Subjectivity\"] = df[\"tweet\"].apply(getSub)\n",
    "df[\"Polarity\"] = df[\"tweet\"].apply(getPol)"
   ]
  },
  {
   "cell_type": "code",
   "execution_count": 169,
   "metadata": {},
   "outputs": [
    {
     "data": {
      "text/html": [
       "<div>\n",
       "<style scoped>\n",
       "    .dataframe tbody tr th:only-of-type {\n",
       "        vertical-align: middle;\n",
       "    }\n",
       "\n",
       "    .dataframe tbody tr th {\n",
       "        vertical-align: top;\n",
       "    }\n",
       "\n",
       "    .dataframe thead th {\n",
       "        text-align: right;\n",
       "    }\n",
       "</style>\n",
       "<table border=\"1\" class=\"dataframe\">\n",
       "  <thead>\n",
       "    <tr style=\"text-align: right;\">\n",
       "      <th></th>\n",
       "      <th>tweet</th>\n",
       "      <th>Subjectivity</th>\n",
       "      <th>Polarity</th>\n",
       "    </tr>\n",
       "  </thead>\n",
       "  <tbody>\n",
       "    <tr>\n",
       "      <td>0</td>\n",
       "      <td>studiolife aislife requires passion dedication...</td>\n",
       "      <td>0.000000</td>\n",
       "      <td>0.000000</td>\n",
       "    </tr>\n",
       "    <tr>\n",
       "      <td>1</td>\n",
       "      <td>white supremacists want everyone to see the ...</td>\n",
       "      <td>0.227273</td>\n",
       "      <td>0.068182</td>\n",
       "    </tr>\n",
       "    <tr>\n",
       "      <td>2</td>\n",
       "      <td>safe ways to heal your acne!!    altwaystoheal...</td>\n",
       "      <td>0.500000</td>\n",
       "      <td>0.781250</td>\n",
       "    </tr>\n",
       "    <tr>\n",
       "      <td>3</td>\n",
       "      <td>is the hp and the cursed child book up for res...</td>\n",
       "      <td>1.000000</td>\n",
       "      <td>0.500000</td>\n",
       "    </tr>\n",
       "    <tr>\n",
       "      <td>4</td>\n",
       "      <td>3rd bihday to my amazing, hilarious nephew e...</td>\n",
       "      <td>0.633333</td>\n",
       "      <td>0.408333</td>\n",
       "    </tr>\n",
       "    <tr>\n",
       "      <td>...</td>\n",
       "      <td>...</td>\n",
       "      <td>...</td>\n",
       "      <td>...</td>\n",
       "    </tr>\n",
       "    <tr>\n",
       "      <td>195</td>\n",
       "      <td>can lighttherapy help with   or depression?   ...</td>\n",
       "      <td>0.750000</td>\n",
       "      <td>0.750000</td>\n",
       "    </tr>\n",
       "    <tr>\n",
       "      <td>196</td>\n",
       "      <td>aww yeah it's all good bing bong bing bong</td>\n",
       "      <td>0.750000</td>\n",
       "      <td>0.500000</td>\n",
       "    </tr>\n",
       "    <tr>\n",
       "      <td>197</td>\n",
       "      <td>selfie srelfie! smile   me selfie followme f4f...</td>\n",
       "      <td>0.100000</td>\n",
       "      <td>0.300000</td>\n",
       "    </tr>\n",
       "    <tr>\n",
       "      <td>198</td>\n",
       "      <td>how vera rubin overcame  and invented a whole ...</td>\n",
       "      <td>0.400000</td>\n",
       "      <td>0.200000</td>\n",
       "    </tr>\n",
       "    <tr>\n",
       "      <td>199</td>\n",
       "      <td>.    so sorry to read this after so much pain</td>\n",
       "      <td>0.600000</td>\n",
       "      <td>-0.150000</td>\n",
       "    </tr>\n",
       "  </tbody>\n",
       "</table>\n",
       "<p>200 rows × 3 columns</p>\n",
       "</div>"
      ],
      "text/plain": [
       "                                                 tweet  Subjectivity  Polarity\n",
       "0    studiolife aislife requires passion dedication...      0.000000  0.000000\n",
       "1      white supremacists want everyone to see the ...      0.227273  0.068182\n",
       "2    safe ways to heal your acne!!    altwaystoheal...      0.500000  0.781250\n",
       "3    is the hp and the cursed child book up for res...      1.000000  0.500000\n",
       "4      3rd bihday to my amazing, hilarious nephew e...      0.633333  0.408333\n",
       "..                                                 ...           ...       ...\n",
       "195  can lighttherapy help with   or depression?   ...      0.750000  0.750000\n",
       "196      aww yeah it's all good bing bong bing bong         0.750000  0.500000\n",
       "197  selfie srelfie! smile   me selfie followme f4f...      0.100000  0.300000\n",
       "198  how vera rubin overcame  and invented a whole ...      0.400000  0.200000\n",
       "199    .    so sorry to read this after so much pain        0.600000 -0.150000\n",
       "\n",
       "[200 rows x 3 columns]"
      ]
     },
     "execution_count": 169,
     "metadata": {},
     "output_type": "execute_result"
    }
   ],
   "source": [
    "df"
   ]
  },
  {
   "cell_type": "markdown",
   "metadata": {},
   "source": [
    "## Plotting Wordcloud"
   ]
  },
  {
   "cell_type": "code",
   "execution_count": 170,
   "metadata": {},
   "outputs": [
    {
     "data": {
      "image/png": "[encoded data removed]",
      "text/plain": [
       "<Figure size 432x288 with 1 Axes>"
      ]
     },
     "metadata": {
      "needs_background": "light"
     },
     "output_type": "display_data"
    }
   ],
   "source": [
    "# Plotting the wordcloud. The more frequent the word is, the more bigger and bolder it appears in wordcloud\n",
    "words = ' '.join([tweets for tweets in df[\"tweet\"]])\n",
    "wordcloud = WordCloud(width = 700, height = 400, max_font_size = 150, random_state = 42).generate(words)\n",
    "\n",
    "plt.imshow(wordcloud, interpolation = 'bilinear')\n",
    "plt.axis(\"off\")\n",
    "plt.show()"
   ]
  },
  {
   "cell_type": "markdown",
   "metadata": {},
   "source": [
    "Now, we can observe that the words amp, good, happy, day, love, time, etc. are more frequent words in our tweets dataset"
   ]
  },
  {
   "cell_type": "markdown",
   "metadata": {},
   "source": [
    "## Computing Analysis"
   ]
  },
  {
   "cell_type": "code",
   "execution_count": 171,
   "metadata": {},
   "outputs": [],
   "source": [
    "# A function to calculate whether negative, neutral or positive analysis\n",
    "\n",
    "def getAnalysis(score):\n",
    "    if score < 0:\n",
    "        return \"Negative\"\n",
    "    elif score == 0:\n",
    "        return \"Neutral\"\n",
    "    else:\n",
    "        return \"Positive\""
   ]
  },
  {
   "cell_type": "code",
   "execution_count": 172,
   "metadata": {},
   "outputs": [
    {
     "name": "stderr",
     "output_type": "stream",
     "text": [
      "C:\\Users\\HP\\Anaconda3\\lib\\site-packages\\ipykernel_launcher.py:1: SettingWithCopyWarning: \n",
      "A value is trying to be set on a copy of a slice from a DataFrame.\n",
      "Try using .loc[row_indexer,col_indexer] = value instead\n",
      "\n",
      "See the caveats in the documentation: http://pandas.pydata.org/pandas-docs/stable/user_guide/indexing.html#returning-a-view-versus-a-copy\n",
      "  \"\"\"Entry point for launching an IPython kernel.\n"
     ]
    },
    {
     "data": {
      "text/html": [
       "<div>\n",
       "<style scoped>\n",
       "    .dataframe tbody tr th:only-of-type {\n",
       "        vertical-align: middle;\n",
       "    }\n",
       "\n",
       "    .dataframe tbody tr th {\n",
       "        vertical-align: top;\n",
       "    }\n",
       "\n",
       "    .dataframe thead th {\n",
       "        text-align: right;\n",
       "    }\n",
       "</style>\n",
       "<table border=\"1\" class=\"dataframe\">\n",
       "  <thead>\n",
       "    <tr style=\"text-align: right;\">\n",
       "      <th></th>\n",
       "      <th>tweet</th>\n",
       "      <th>Subjectivity</th>\n",
       "      <th>Polarity</th>\n",
       "      <th>Analysis</th>\n",
       "    </tr>\n",
       "  </thead>\n",
       "  <tbody>\n",
       "    <tr>\n",
       "      <td>0</td>\n",
       "      <td>studiolife aislife requires passion dedication...</td>\n",
       "      <td>0.000000</td>\n",
       "      <td>0.000000</td>\n",
       "      <td>Neutral</td>\n",
       "    </tr>\n",
       "    <tr>\n",
       "      <td>1</td>\n",
       "      <td>white supremacists want everyone to see the ...</td>\n",
       "      <td>0.227273</td>\n",
       "      <td>0.068182</td>\n",
       "      <td>Positive</td>\n",
       "    </tr>\n",
       "    <tr>\n",
       "      <td>2</td>\n",
       "      <td>safe ways to heal your acne!!    altwaystoheal...</td>\n",
       "      <td>0.500000</td>\n",
       "      <td>0.781250</td>\n",
       "      <td>Positive</td>\n",
       "    </tr>\n",
       "    <tr>\n",
       "      <td>3</td>\n",
       "      <td>is the hp and the cursed child book up for res...</td>\n",
       "      <td>1.000000</td>\n",
       "      <td>0.500000</td>\n",
       "      <td>Positive</td>\n",
       "    </tr>\n",
       "    <tr>\n",
       "      <td>4</td>\n",
       "      <td>3rd bihday to my amazing, hilarious nephew e...</td>\n",
       "      <td>0.633333</td>\n",
       "      <td>0.408333</td>\n",
       "      <td>Positive</td>\n",
       "    </tr>\n",
       "    <tr>\n",
       "      <td>...</td>\n",
       "      <td>...</td>\n",
       "      <td>...</td>\n",
       "      <td>...</td>\n",
       "      <td>...</td>\n",
       "    </tr>\n",
       "    <tr>\n",
       "      <td>195</td>\n",
       "      <td>can lighttherapy help with   or depression?   ...</td>\n",
       "      <td>0.750000</td>\n",
       "      <td>0.750000</td>\n",
       "      <td>Positive</td>\n",
       "    </tr>\n",
       "    <tr>\n",
       "      <td>196</td>\n",
       "      <td>aww yeah it's all good bing bong bing bong</td>\n",
       "      <td>0.750000</td>\n",
       "      <td>0.500000</td>\n",
       "      <td>Positive</td>\n",
       "    </tr>\n",
       "    <tr>\n",
       "      <td>197</td>\n",
       "      <td>selfie srelfie! smile   me selfie followme f4f...</td>\n",
       "      <td>0.100000</td>\n",
       "      <td>0.300000</td>\n",
       "      <td>Positive</td>\n",
       "    </tr>\n",
       "    <tr>\n",
       "      <td>198</td>\n",
       "      <td>how vera rubin overcame  and invented a whole ...</td>\n",
       "      <td>0.400000</td>\n",
       "      <td>0.200000</td>\n",
       "      <td>Positive</td>\n",
       "    </tr>\n",
       "    <tr>\n",
       "      <td>199</td>\n",
       "      <td>.    so sorry to read this after so much pain</td>\n",
       "      <td>0.600000</td>\n",
       "      <td>-0.150000</td>\n",
       "      <td>Negative</td>\n",
       "    </tr>\n",
       "  </tbody>\n",
       "</table>\n",
       "<p>200 rows × 4 columns</p>\n",
       "</div>"
      ],
      "text/plain": [
       "                                                 tweet  Subjectivity  \\\n",
       "0    studiolife aislife requires passion dedication...      0.000000   \n",
       "1      white supremacists want everyone to see the ...      0.227273   \n",
       "2    safe ways to heal your acne!!    altwaystoheal...      0.500000   \n",
       "3    is the hp and the cursed child book up for res...      1.000000   \n",
       "4      3rd bihday to my amazing, hilarious nephew e...      0.633333   \n",
       "..                                                 ...           ...   \n",
       "195  can lighttherapy help with   or depression?   ...      0.750000   \n",
       "196      aww yeah it's all good bing bong bing bong         0.750000   \n",
       "197  selfie srelfie! smile   me selfie followme f4f...      0.100000   \n",
       "198  how vera rubin overcame  and invented a whole ...      0.400000   \n",
       "199    .    so sorry to read this after so much pain        0.600000   \n",
       "\n",
       "     Polarity  Analysis  \n",
       "0    0.000000   Neutral  \n",
       "1    0.068182  Positive  \n",
       "2    0.781250  Positive  \n",
       "3    0.500000  Positive  \n",
       "4    0.408333  Positive  \n",
       "..        ...       ...  \n",
       "195  0.750000  Positive  \n",
       "196  0.500000  Positive  \n",
       "197  0.300000  Positive  \n",
       "198  0.200000  Positive  \n",
       "199 -0.150000  Negative  \n",
       "\n",
       "[200 rows x 4 columns]"
      ]
     },
     "execution_count": 172,
     "metadata": {},
     "output_type": "execute_result"
    }
   ],
   "source": [
    "df[\"Analysis\"] = df[\"Polarity\"].apply(getAnalysis)\n",
    "df"
   ]
  },
  {
   "cell_type": "code",
   "execution_count": 173,
   "metadata": {},
   "outputs": [
    {
     "name": "stdout",
     "output_type": "stream",
     "text": [
      "1 ) -    white supremacists want everyone to see the new â  birdsâ movie â and hereâs why  \n",
      "2 ) -  safe ways to heal your acne!!    altwaystoheal healthy   healing!! \n",
      "3 ) -  is the hp and the cursed child book up for reservations already? if yes, where? if no, when? ððð   harrypotter pottermore favorite\n",
      "4 ) -    3rd bihday to my amazing, hilarious nephew eli ahmir! uncle dave loves you and missesâ¦ \n",
      "5 ) -  choose to be   :) momtips \n",
      "6 ) -  delicious   food lovelife capetown mannaepicure resturantâ¦ \n",
      "7 ) -  1000dayswasted - narcosis infinite ep.. make me aware.. grinding neuro bass lifestyle   \n",
      "8 ) -  one of the world's greatest spoing events   lemans24 teamaudi  \n",
      "9 ) -  half way through the website now and allgoingwell very  \n",
      "10 ) -  good food, good life , enjoy and   ðððððð this is called ~garlic bread~ ... iloveitâ¦ \n",
      "11 ) -  &amp; love &amp; hugs &amp; kisses too! how to keep your baby     parenting healthcare\n",
      "12 ) -  thought factory: bbc neutrality on right wing fascism  politics media blm brexit trump leadership &gt;3 \n",
      "13 ) -  hey guys tommorow is the last day of my exams i'm so happy yay  \n",
      "14 ) -  i thought i saw a mermaid!!! ceegee  smcr   inshot girls cute summer blur sun  â¦ \n",
      "15 ) -  happy bday lucyâ¨â¨ð xoxo love beautiful pizza   instagood mileycyrus demilovatoâ¦ \n",
      "16 ) -   haroldfriday have a weekend filled with sunbeams everyone!   healthy weekend \n",
      "17 ) -    tried that! but nothing - will try again! know you loved 2, but the 3rd light my fave &amp;deep rivers  \n",
      "18 ) -    new  episode tk! and a really cool 2-year anniversary ep in the works for august. :o)   \n",
      "19 ) -  food time for haylie ð hot chocolate for mummy âï¸â",
      "ð¤ðð¯ðªâ®ð¤ thank god it's friday!!! ððð  â¦ \n",
      "20 ) -    bihday shilpashetty we wish you to have a very very successful yearretailer,manufacturer ladies cloth \n",
      "21 ) -  tomorrow will be fun! seeing an old friend and then shooting something super fun:)  \n",
      "22 ) -  raw food diet benefits! -    altwaystoheal healthy   healing peace joy love !! \n",
      "23 ) -  so baby dave is due to be born on october 26...my fav band of all time tool will be playing  the same weekend .....   lol\n",
      "24 ) -    loving each other every day\n",
      "25 ) -    morning sunshine! ð   smile sexy bigboobs \n",
      "26 ) -  this world makes me  ... jesus makes me happy... john 16:33 word truth faith peaceâ¦ \n",
      "27 ) -  foods for healing your body!!    doplants! healthy is  !! \n",
      "28 ) -  enjoying the sunshine! god is good. orlando sunshinestate goodlife bosslady joy  â¦ \n",
      "29 ) -   is there any reason for why the maintainers of the android do not provide more clear and basic code examples in their docs?  \n",
      "30 ) -  have a nice luxuryweek!!ó¾ó¾ monday neweek luxuryweek bestday staypositive   fun goodmoments lifestyle... \n",
      "31 ) -  cause me and  get to live together for a whole week!   cantwaittocook ðð\n",
      "32 ) -  i am thankful for fun. thankful positive     \n",
      "33 ) -  i saw she's craying coz her baby so hard to breath     strong yeah baby god withâ¦ (at kaika medical center) â \n",
      "34 ) -  model   i love u take with u all the time in urð±!!! ðððð",
      "ð¦ð¦ð¦  \n",
      "35 ) -  can lighttherapy help with sad or depression?    altwaystoheal  healthy is   !! \n",
      "36 ) -  have a very good sunday everyone ððð«ð·â½ï¸ð sunday morning   smile picofthedayâ¦ \n",
      "37 ) -  i believe r willingness 2 try 2 understand, 2 encourage &amp; 2 inspire others 2 b   &amp; grow is a greater spiritual purpose grok\n",
      "38 ) -  chioma and noble igwe's special day chobs16 chobs2016  landmark_centre    \n",
      "39 ) -  cant believe i left school 5 years ago and now in 8 weeks time ill be teaching my own classes! dramateacher gettingold\n",
      "40 ) -  lipo-light helped shape her, and it can help shape you. learn more  loseinches burnfat result   \n",
      "41 ) -  blessed to hear morning chorus, good morning the people.   fridayðð\n",
      "42 ) -  aunti mi, where do you find this hilarious posts?  is nigeria not in enough trouble? \n",
      "43 ) -    thrilled to be working with  over the coming months - more announcements very soon 2faceddancecompany \n",
      "44 ) -  cool old door with window only $50.00 from vendor 509!! shoplocal shopalyssas fathersday   \n",
      "45 ) -     greatbritain: all eyes on the skies as rafredarrows fly past the mall to say  â¦ \n",
      "46 ) -    8000 followers...we are blessed by all of you ,and love everyone that suppos us ...thx very much and   fishing and fâ¦\n",
      "47 ) -  website is live avon  makeup  fresh  look   \n",
      "48 ) -  and the forecast looks good for the weather all across bolton ! \n",
      "49 ) -    happy shootingð©ââ¤ï¸âðâð©ð· love monicaðð  sweet magazine thanku love   \n",
      "50 ) -  happy father's day ððð   fathers day fathersday dad ilovemydad ilovemyfather love \n",
      "51 ) -  stardivarius:    friday : new history and new outfit post   fashion look  friendsflâ¦ \n",
      "52 ) -  so happy that d trusted me to be the first to knowâ¤ð¶   lovelovelovebabies\n",
      "53 ) -  interview feat grandmaster flash - ze lovely message â«âªâ«â«âºâº nurap nudisco music paris   â«âªâ«  via \n",
      "54 ) -  i'm getting more hours at work for my training. i'm so   \n",
      "55 ) -  life right now is amazingð  successful positive\n",
      "56 ) -  if social media is your reality you should really get out more. viual acceptance seems to really be a thing.   s ocialmedia\n",
      "57 ) -  great to see you! look forward to welcoming you to digme   \n",
      "58 ) -  ððððâ¤ï¸ððð» happy father's day dad hope u have a great day love u ððððâ¤ï¸ððð»  fathersday  loveyou \n",
      "59 ) -   getting ready for kubamba  fathers day kambua noel gg moh be blessed\n",
      "60 ) -  ya know guys, i was feeling stressed out after the donut thing. i just feel so happy when i know 96 followers are sticking with me.  \n",
      "61 ) -  pa 2 å¶æãã«ã° ã»ã¼ã©ã¼æ ã«ã¼ãºã½ãã¯ã¹ ãã¤ã³ãã¼ã« jk ã®ã£ã« ãããªã³ åç ããª   fun memory bffð­ loveâ¦ \n",
      "62 ) -  l o v e   sky photoofday moments cool instaphoto  paradise    good  mexicoâ¦ \n",
      "63 ) -  happy saturday tune (*^_^*) music saturday   edm \n",
      "64 ) -  hey  - a $14000 ivanka bracelet? do you feel good profiting from xenophobia? misogyny? hatred? ? grabyourwallet\n",
      "65 ) -  she was just loving him and he just saw her as a temporary setup.  \n",
      "66 ) -  happy euro 2016 eve euro2016   ðððªð½ðªð½\n",
      "67 ) -  save $$ no logins x brokers   me change memes love   education university \n",
      "68 ) -  something was obviously really funny ð­ laugh girls smiles  â¦ \n",
      "69 ) -  i am thankful for films. thankful positive     \n",
      "70 ) -  i have begun something new on this page &amp; am super   about it :)  it's daily tarot guidance with a... \n",
      "71 ) -    today was a good day! ð­happiestplaceoneah disneyland fun   walking sundayfundayâ¦ \n",
      "72 ) -  ltpst ðð and i need vitamin sea ðð  beach blue smile   \n",
      "73 ) -    today's meððð§ð»ðð¦ð  code white summer love   \n",
      "74 ) -  rainbow over wall street   a good way to end training!! officialrainbowspotterâ¦ \n",
      "75 ) -  it's going to be a great day! the day itself doesn't have a choice in the matter. feelinggood   proud feelingaccomplished motivated\n",
      "76 ) -  found this in my vault never posted it ð¬ selfie throwback boys guys love  â¦ \n",
      "77 ) -  happy friday!! wegotwheels car vw polo firstcar   ontheroad whitepolo newcarâ¦ \n",
      "78 ) -   all together this christmas: pls  &amp; follow  national day of action on 20 feb against  &amp; theâ¦ \n",
      "79 ) -  withasumiðð»ð«ð yesterday shotdisneydisneyland  enjoy \n",
      "80 ) -    straight no chaser -   ( music video)  \n",
      "81 ) -  does linkedin have anything in the works for giving free membership to canadian, australian and british veterans? justusvetsatm  \n",
      "82 ) -  out for dinner with my lukey boy ððlovehim   holidays orlando @ clear creek circleâ¦ \n",
      "83 ) -   hahaha, that's a good point that i just totally skipped over. when you're 14, not a celebrity, and your dad is asking for $,  \n",
      "84 ) -  i am.. really good at cooking..   credit to  for the mashed potatoes and mac n cheese! \n",
      "85 ) -  pretty much the best advice ever. hydrated zerofucksgiven   friday sorrynotsorry liveâ¦ \n",
      "86 ) -  i just sent a msg to my aunt in peru and told her to wish my grandpa and uncles a happy father's day but didn't include my dad.  \n",
      "87 ) -    day   all the best to you!\n",
      "88 ) -  phil spencer criticizes sony? of course! what else would you do when you just got slapped in the face by sony's huge 40 million+ dick!  \n",
      "89 ) -    we think sa is pretty great, and we canât wait to show you why twodaystogo countdown shhh   bringiton\n",
      "90 ) -  happy mother's day to ppl.  \n",
      "91 ) -  my bff is in liverpool and i am so   ! first stop  for a flatwhite  coffeelovers bestfriends \n",
      "92 ) -  i love herð \n",
      "93 ) -  so tom hiddleston.... aka..lokie(excuse spelling) is the new jamesbond   scaryinthor bestchoicefornewjb ðððð\n",
      "94 ) -  laughing at the fact that all you mfz use this app to talk about what u feel inside for other people to see it haha  \n",
      "95 ) -  sterling   attack bull chase: when you leave the lot despite the fact that you're a strong source of fo \n",
      "96 ) -  i finally found a way how to delete old tweets! you might find it useful as well:    deletetweets\n",
      "97 ) -  model   i love u take with u all the time in urð±!!! ðððð",
      "ð¦ð¦ð¦  \n",
      "98 ) -  model   i love u take with u all the time in urð±!!! ðððð",
      "ð¦ð¦ð¦  \n",
      "99 ) -    looked right at the cameraman as she grabbed katie's arm &amp; said \"can i talk to you\"   wow, everything you do is for tv?  \n",
      "100 ) -       we held one in march, which was great cpd for everyone ðð½ \n",
      "101 ) -  i am gorgeous. i_am positive affirmation     \n",
      "102 ) -  because happy! because   instagram instagood instagram instapasspo instadailyâ¦ \n",
      "103 ) -  splashing around ð¦ðdogs bestdogever swimming healthy   goodvibes yoga fitnessâ¦ \n",
      "104 ) -    it isn't my love... it isn't.... \n",
      "105 ) -  can lighttherapy help with   or depression?    altwaystoheal  healthy is happy !! \n",
      "106 ) -  aww yeah it's all good bing bong bing bong   \n",
      "107 ) -  selfie srelfie! smile   me selfie followme f4f polishgirl polskadziewczyna \n",
      "108 ) -  how vera rubin overcame  and invented a whole field of scientific study  diversityinscience science steam\n"
     ]
    }
   ],
   "source": [
    "# Printing all positive tweets\n",
    "j = 1\n",
    "sorted_dataframe = df.sort_values(by = ['Polarity'])\n",
    "\n",
    "for tweet in range(sorted_dataframe.shape[0]):\n",
    "    if sorted_dataframe['Analysis'][tweet] == \"Positive\":\n",
    "        print(j, \") - \", sorted_dataframe['tweet'][tweet])\n",
    "        j += 1"
   ]
  },
  {
   "cell_type": "code",
   "execution_count": 174,
   "metadata": {},
   "outputs": [
    {
     "name": "stdout",
     "output_type": "stream",
     "text": [
      "1 ) -  something inside me dies ð¦ð¿â¨  eyes ness smokeyeyes tired  lonely sof grungeâ¦ \n",
      "2 ) -      i will never understand why my dad left me when i was so young.... :/ deep inthefeels  \n",
      "3 ) -  i'll stand behind this guncontrolplease   senselessshootings taketheguns comicrelief stillsad \n",
      "4 ) -    got my  limited edition rain or shine set today!!  !     \n",
      "5 ) -  never been this down on myself in my entire life.  \n",
      "6 ) -   chick gets fucked hottest naked lady \n",
      "7 ) -  i'll never be 120 again i'm   i'm a thick women blacktina\n",
      "8 ) -  orangechicken   attack bull game 3d: do you really think that his head was empty around the city. each side \n",
      "9 ) -  my granddaughter's 1st bihday is tomorrow.  going to pick her play house, little car, &amp; pool today.   ððððððð\n",
      "10 ) -    6 chapters left of my book &amp; then it's nearly complete kruella adaughterstale it will be a hard read emotional funnyâ¦\n",
      "11 ) -  trying out another way to make sourdough bread, this one may be underproofed   failed baking \n",
      "12 ) -   .    &lt;--- no more feeding at the public trough piggy. michelleobamaâ¦ \n",
      "13 ) -       your ignorant &amp; ill informed tweets r silly, childish &amp; one dimensional  \n",
      "14 ) -  jackblair - na: horny hot naughty nasty   slut young shy wet nude xxx sexy porn kinky snapshot \n",
      "15 ) -  back for some people! missingperson havingfunalone lonely   ð hothl ð¥ðð \n",
      "16 ) -  many of my  alum friends are waking up shocked to hear of the death of scsu president. shocked   \n",
      "17 ) -   i'm disappointed in yesterday's argument. i wasn't even baselessly accused of living in my mothers basement. weak   bad\n",
      "18 ) -    only 741 retweets in over half a day   that's because gun owners like my hubby &amp; me don't respect your fanaticism \n",
      "19 ) -    fursuit fucking   hardcore 2008  \n",
      "20 ) -  fbf to when it was all staing!   how far  has come &amp; anxious for whatâ¦ \n",
      "21 ) -   why is game of thrones s5 no longer on sky box sets? mad   help\n",
      "22 ) -   at work: attorneys for white officer who shot philandocastile remove black judge from presiding over trial. \n",
      "23 ) -   trump's long history of  explained 1970's thru 2016 nevermypresident  theresistance \n",
      "24 ) -  if you cut anyone with english dna in half you well find  written inside them.\n",
      "25 ) -    i burnt all the garlic bread devastated   :(\n",
      "26 ) -  looking up some african news out of boredem, stumbled upon  and oh my god, site is racist as fuck against everything  \n",
      "27 ) -    dana is devestated that there hasn't been any trouble \n",
      "28 ) -    oh, so now he's admitting to having a small staff???  flipflopper disgraceful   \n",
      "29 ) -  when people are so old and bored they resolve to bullying others over twitter  \n",
      "30 ) -    there wasn't so much violence at the last euro!!  i wonder what happened,  is the brutal side coming back? euro2016 footbaâ¦\n",
      "31 ) -    .    so sorry to read this after so much pain  \n"
     ]
    }
   ],
   "source": [
    "# Printing all negative tweets\n",
    "j = 1\n",
    "sorted_dataframe = df.sort_values(by = ['Polarity'], ascending = False)\n",
    "\n",
    "for tweet in range(sorted_dataframe.shape[0]):\n",
    "    if sorted_dataframe['Analysis'][tweet] == \"Negative\":\n",
    "        print(j, \") - \", sorted_dataframe['tweet'][tweet])\n",
    "        j += 1"
   ]
  },
  {
   "cell_type": "code",
   "execution_count": 175,
   "metadata": {},
   "outputs": [
    {
     "name": "stdout",
     "output_type": "stream",
     "text": [
      "1 ) -  studiolife aislife requires passion dedication willpower   to find newmaterialsâ¦ \n",
      "2 ) -  finishedtattooinkedinkloveitâ¤ï¸ â¤ï¸â¤ï¸â¤ï¸â¤ï¸ thanksaleeee !!! \n",
      "3 ) -  i ate,i ate and i ate...ðð   jamaisasthi fish curry prawn hilsa foodfestival foodies \n",
      "4 ) -  ð­ðð girls   sun fave @ london, united kingdom \n",
      "5 ) -        levyrroni recuerdos memoriesð­â¤ðð«ð recuerdos    friends life triunfodelamor \n",
      "6 ) -  my mind is like ððð½ð but my body like ðð´ðµð½....   sleepy stillallinð\n",
      "7 ) -  check  twitterww - trends: \"trending worldwide 11:14 am bst\"1. oscarpistorius2. diplomalÄ±liselilerayakta3.  â¦\n",
      "8 ) -  suppo the taiji fisherman! no bullying! no racism! tweet4taiji thecove seashepherd \n",
      "9 ) -  i say we because i'm speaking collectively. i've always known. 2016 showed a lot.  andâ¦ \n",
      "10 ) -  wish we could talk  \n",
      "11 ) -   snow white --&gt; open! --&gt; sleepy,  , sneezy and bashful. @ or dm us today! [] \n",
      "12 ) -  it wasn't me  lottery \n",
      "13 ) -    trumps invested billions into saudi. he empowers the people funding isis.   trumpsahypocrite\n",
      "14 ) -  happiest place on eah! disneyworld orlando castle   mickeymouse likechildrens  \n",
      "15 ) -      father's to my idol prg\n",
      "16 ) -      throw back thursday  bih day 2 my bro chege\n",
      "17 ) -  so this happened!   baby duedec2016 \n",
      "18 ) -  let's do this thing!   euro2016 \n",
      "19 ) -  it's time!! ðð¼ðð¼ðð¼â½ï¸â½ï¸ euro2016 onemonth 24teams onewinner football internationals   10thjune-10thjuly\n",
      "20 ) -  my cousins are asking why do i always where shawl...di ko lang masabi, 'coz po i'm getting fat and my braso is getting bigger!!!   baboy\n",
      "21 ) -  time for a pint before seeing coldplay in wembleyyyy ð³ðð   coldplay wembleystadiumâ¦ \n",
      "22 ) -  current mood.  goodnight happilyeverafter disney quotes   blessed thankful gratefulâ¦ \n",
      "23 ) -  ahhh!! leaving for  tomorrow!!ððð¼ð­ð  eforest2016 electricforest plur  \n",
      "24 ) -    fathersday fatherday from  team! \n",
      "25 ) -    final countdown to the official us publication on june 1st   whyfontsmatter usa typography font book \n",
      "26 ) -   ðª sevens tomorrowðª southwestseason ðfinalðagainst  next week  plus scrim with   wearebusy  \n",
      "27 ) -    did u take both of them and pour them into one big cup, or what? no drink delivered.  \n",
      "28 ) -  i have been working on my anatomy studyguide since 5 pm and i am still not done   isuck plspassme\n",
      "29 ) -  worry not.   daydream sunlight thunder miss dreams   distance silence pain sweetâ¦ \n",
      "30 ) -  electronic music from bogota colombia  puntohost cedm edm dj fashion music   \n",
      "31 ) -  colourpop !!! ðððð   \n",
      "32 ) -  palladino : \"i'll say whatÂ iÂ feel like saying.â gopathetic lookwhatyoudid politics   madcow  \n",
      "33 ) -      on our way to oambo see you soon!!    sasocp16 \n",
      "34 ) -       always, always, always somebody else's fault...  bigot \n",
      "35 ) -  this how we turning up todayðð½ððð½ð whitegirlwasted   dramafree armedsecurityâ¦ \n",
      "36 ) -  qatil poetry   poetry eid poetry 2 lines sms eid ghazal urdu poetry dard poetry beutiful poetry + follow  send 4o4o4\n",
      "37 ) -  rip to all the victims.   usa prayfororlando terrorism victims lgbt suppo altogether pride stand \n",
      "38 ) -  i'm so   and grateful now that - affirmations \n",
      "39 ) -    i read in an aicle 4 yrs before that even dhabas on the side of national highways are growing 1/2 acres of ganjas.   â¦\n",
      "40 ) -  drive in to see grease &amp; footloose âºï¸ð«  \n",
      "41 ) -    thank you steve!   i don't think it has quite sunk in though!\n",
      "42 ) -  water why?  ð\n",
      "43 ) -   oh there is tons of stuff its like they won't do it, eah garbage dump  \n",
      "44 ) -  you might be a libtard if... libtard  sjw liberal politics \n",
      "45 ) -  4u nonhockey people. hockeys babe ruth died. gordie howe was beyond myth and legend. hockey has lost mr. hockey.  \n",
      "46 ) -  michelleobama is looking a bit 'dishevelled...' is she thinking about spending her retirement visiting obama at aâ¦ \n",
      "47 ) -  can't wait to watch  with everyone at  this evening!  \n",
      "48 ) -  cat is out of the bag...fruit ninja   steam htcvive \n",
      "49 ) -     -national-german-bestfriend-day maybe? ððð¤ð¼ \n",
      "50 ) -  why are all our local mps so   about the downgrade of our hospital? savethealex \n",
      "51 ) -  model alternative tattoo piercing   @ olde towne bellevue \n",
      "52 ) -  people aren't protesting trump because a republican won-they do so because trump has fuhered  &amp;â¦ \n",
      "53 ) -  w;    and me cafeexpress stanupcomedy   crazyâ¦ \n",
      "54 ) -  about to watch these movies alone  \n",
      "55 ) -  one thinks this could be a bit of a punch up ð gameofthrones    \n",
      "56 ) -  \"i'm his princess.\"  me: i'm no one's princess...sadly.   \n",
      "57 ) -  cant wait for icon this weekend and can't wait to finally get one of these tatoos   icon16 \n",
      "58 ) -     never a doubt on my pa,   many voted for him. sad for america.\n",
      "59 ) -    vip ciniworld with caz   ð¬   ð\n",
      "60 ) -  seeing war craft in imax 3d ð warcraftmovie   imax woohoo \n",
      "61 ) -  i messed up my nails  \n"
     ]
    }
   ],
   "source": [
    "# Printing all Neutral tweets\n",
    "j = 1\n",
    "sorted_dataframe = df.sort_values(by = ['Polarity'], ascending = False)\n",
    "\n",
    "for tweet in range(sorted_dataframe.shape[0]):\n",
    "    if sorted_dataframe['Analysis'][tweet] == \"Neutral\":\n",
    "        print(j, \") - \", sorted_dataframe['tweet'][tweet])\n",
    "        j += 1"
   ]
  },
  {
   "cell_type": "markdown",
   "metadata": {},
   "source": [
    "## Scatter Plot - Polarity Vs Subjectivity"
   ]
  },
  {
   "cell_type": "code",
   "execution_count": 176,
   "metadata": {},
   "outputs": [
    {
     "data": {
      "image/png": "[encoded data removed]",
      "text/plain": [
       "<Figure size 576x432 with 1 Axes>"
      ]
     },
     "metadata": {
      "needs_background": "light"
     },
     "output_type": "display_data"
    }
   ],
   "source": [
    "# Plotting the Polarity and Subjectivity\n",
    "plt.figure(figsize = (8,6))\n",
    "for i in range(df.shape[0]):\n",
    "    plt.scatter(df[\"Polarity\"][i], df[\"Subjectivity\"][i], color=\"Blue\")\n",
    "    \n",
    "plt.title(\"Polarity Vs Subjectivity\")\n",
    "plt.xlabel(\"Polarity\")\n",
    "plt.ylabel(\"Subjectivity\")\n",
    "plt.show()"
   ]
  },
  {
   "cell_type": "markdown",
   "metadata": {},
   "source": [
    "Now we can visualize the polarity of the tweets on the scatter plot. We can see that the majority of the tweets lie on the Positive side of the sentiment."
   ]
  },
  {
   "cell_type": "markdown",
   "metadata": {},
   "source": [
    "## Percentage of Positive, Negative and Neutral Tweets"
   ]
  },
  {
   "cell_type": "code",
   "execution_count": 177,
   "metadata": {},
   "outputs": [
    {
     "data": {
      "text/plain": [
       "54.0"
      ]
     },
     "execution_count": 177,
     "metadata": {},
     "output_type": "execute_result"
    }
   ],
   "source": [
    "# So let's compute the percentage of positive tweets for accurate analysis\n",
    "\n",
    "postweets = df[df.Analysis == \"Positive\"][\"tweet\"]\n",
    "\n",
    "round((postweets.shape[0] / df.shape[0]) * 100, 1)"
   ]
  },
  {
   "cell_type": "code",
   "execution_count": 178,
   "metadata": {},
   "outputs": [
    {
     "data": {
      "text/plain": [
       "15.5"
      ]
     },
     "execution_count": 178,
     "metadata": {},
     "output_type": "execute_result"
    }
   ],
   "source": [
    "# Also let's compute the percentage of negative tweets for accurate analysis\n",
    "\n",
    "negtweets = df[df.Analysis == \"Negative\"][\"tweet\"]\n",
    "\n",
    "round((negtweets.shape[0] / df.shape[0]) * 100, 1)"
   ]
  },
  {
   "cell_type": "code",
   "execution_count": 179,
   "metadata": {},
   "outputs": [
    {
     "data": {
      "text/plain": [
       "30.5"
      ]
     },
     "execution_count": 179,
     "metadata": {},
     "output_type": "execute_result"
    }
   ],
   "source": [
    "# Also let's compute the percentage of neutral tweets for accurate analysis\n",
    "\n",
    "netweets = df[df.Analysis == \"Neutral\"][\"tweet\"]\n",
    "\n",
    "round((netweets.shape[0] / df.shape[0]) * 100, 1)"
   ]
  },
  {
   "cell_type": "code",
   "execution_count": 180,
   "metadata": {},
   "outputs": [
    {
     "data": {
      "text/plain": [
       "Positive    108\n",
       "Neutral      61\n",
       "Negative     31\n",
       "Name: Analysis, dtype: int64"
      ]
     },
     "execution_count": 180,
     "metadata": {},
     "output_type": "execute_result"
    }
   ],
   "source": [
    "# Show the value counts\n",
    "df[\"Analysis\"].value_counts()"
   ]
  },
  {
   "cell_type": "code",
   "execution_count": 181,
   "metadata": {},
   "outputs": [
    {
     "data": {
      "image/png": "[encoded data removed]",
      "text/plain": [
       "<Figure size 432x288 with 1 Axes>"
      ]
     },
     "metadata": {
      "needs_background": "light"
     },
     "output_type": "display_data"
    }
   ],
   "source": [
    "# Plot and visualize the counts\n",
    "plt.title(\"Sentiment Analysis\")\n",
    "plt.xlabel(\"Sentiment\")\n",
    "plt.ylabel(\"Counts\")\n",
    "df[\"Analysis\"].value_counts().plot(kind = \"bar\")\n",
    "plt.show()"
   ]
  },
  {
   "cell_type": "markdown",
   "metadata": {},
   "source": [
    "#### Performed By - Shreeyash Khalate"
   ]
  },
  {
   "cell_type": "code",
   "execution_count": null,
   "metadata": {},
   "outputs": [],
   "source": []
  }
 ],
 "metadata": {
  "kernelspec": {
   "display_name": "Python 3",
   "language": "python",
   "name": "python3"
  },
  "language_info": {
   "codemirror_mode": {
    "name": "ipython",
    "version": 3
   },
   "file_extension": ".py",
   "mimetype": "text/x-python",
   "name": "python",
   "nbconvert_exporter": "python",
   "pygments_lexer": "ipython3",
   "version": "3.7.4"
  }
 },
 "nbformat": 4,
 "nbformat_minor": 2
}
